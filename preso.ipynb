{
 "cells": [
  {
   "cell_type": "markdown",
   "metadata": {},
   "source": [
    "# Magic Tricks: Demystifying IPython Magics\n",
    "\n",
    "> Jupyter notebooks support a feature called \"magic commands\" (aka \"IPython magics\") that use a special syntax for calling utility functions. This talk explains how magics work and how to write custom magics that make security analysis and research tasks more efficient. The live demo is a proof-of-concept magic command that integrates the Azure CLI with pandas for convenient evidence collection and analysis in Jupyter notebooks.\n",
    "\n",
    "**Ryan Marcotte Cobb (ryan@detect.dev)**\n",
    "\n",
    "Principal Security Researcher, Secureworks\n",
    "\n",
    "---\n",
    "\n",
    "## whoami\n",
    "\n",
    "- 10 years DFIR and research at Secureworks\n",
    "- Contributor to FOSS projects: `msticpy`, `stratus-red-team`, `ROADtools`\n",
    "- Developer of Jupyter-based tools for security automation\n",
    "\n",
    "---\n",
    "\n",
    "## Overview\n",
    "\n",
    "- Introduction to IPython magics\n",
    "- Write our own custom IPython magics\n",
    "- Examples of using IPython magics for Infosec\n",
    "    - `ROADtools`\n",
    "    - DFIR report automation\n",
    "    - Azure CLI\n",
    "\n",
    "_Follow along on binderhub!_\n",
    "\n",
    "[![Binder](https://mybinder.org/badge_logo.svg)](https://mybinder.org/v2/gh/secureworks/infosec-jupyterthon-2022-ipython-magics/HEAD?labpath=preso.ipynb)\n",
    "\n",
    "---\n",
    "\n",
    "## Introduction to IPython Magics\n",
    "\n",
    "- [Tutorial on Magic Functions](https://ipython.readthedocs.io/en/stable/interactive/tutorial.html#magic-functions)\n",
    "- [Magic command system](https://ipython.readthedocs.io/en/stable/interactive/reference.html#magic)"
   ]
  },
  {
   "cell_type": "markdown",
   "metadata": {},
   "source": [
    "IPython provides a programmatic interface for tools that were not designed for Python, but are generally Unix-like (usually commandline).\n",
    "\n",
    "These conventions unify Python, the browser, and native tools.\n",
    "\n",
    "IPython uses a **special syntax** to tell the interpreter\" that some code should be evaluated differently than normal Python: `?`, `!`, `%`, and `%%`.\n",
    "\n",
    "---\n",
    "\n",
    "### `!` Magic Syntax\n",
    "\n",
    "`!` (the \"bang\" character) is the IPython symbol for a shell command -- wrapping `bash`, `cmd`, and/or `pwsh`."
   ]
  },
  {
   "cell_type": "code",
   "execution_count": null,
   "metadata": {},
   "outputs": [],
   "source": [
    "!whoami"
   ]
  },
  {
   "cell_type": "markdown",
   "metadata": {},
   "source": [
    "You can use these special IPython syntaxes wherever Python statements are valid.\n",
    "\n",
    "Values can be are assigned to variables based on the `stdout` output from the system shell."
   ]
  },
  {
   "cell_type": "code",
   "execution_count": null,
   "metadata": {},
   "outputs": [],
   "source": [
    "directory_listing = !dir\n",
    "directory_listing"
   ]
  },
  {
   "cell_type": "markdown",
   "metadata": {},
   "source": [
    "\n",
    "---\n",
    "\n",
    "### `?` Magic Syntax\n",
    "\n",
    "The `?` (question mark) character is the IPython equivalent of a `man page`, but for displaying Python docstrings."
   ]
  },
  {
   "cell_type": "code",
   "execution_count": null,
   "metadata": {},
   "outputs": [],
   "source": [
    "import pandas as pd\n",
    "\n",
    "df = pd.DataFrame()\n",
    "df?"
   ]
  },
  {
   "cell_type": "markdown",
   "metadata": {},
   "source": [
    "\n",
    "---\n",
    "\n",
    "### `%` and `%%` Magic Syntax\n",
    "\n",
    "But I am here to discuss user-defined **magic** commands, which use the `%` and `%%` operators."
   ]
  },
  {
   "cell_type": "markdown",
   "metadata": {},
   "source": [
    "### Line Magic\n",
    "\n",
    "The single `%` operator indicates a **line magic**.\n",
    "\n",
    "The remainder of the current line is evaluated by the magic, and the return value can be assigned to variables in the namespace wherever Python statements can be made.\n",
    "\n",
    "You can list all available magics using the `%magic` command."
   ]
  },
  {
   "cell_type": "code",
   "execution_count": null,
   "metadata": {},
   "outputs": [],
   "source": [
    "%magic"
   ]
  },
  {
   "cell_type": "markdown",
   "metadata": {},
   "source": [
    "### Cell Magic\n",
    "\n",
    "The `%%` syntax indicates a **cell magic**.\n",
    "\n",
    "The contents of the notebook cell are passed to the magic function."
   ]
  },
  {
   "cell_type": "code",
   "execution_count": null,
   "metadata": {},
   "outputs": [],
   "source": [
    "%%html\n",
    "<button>click me</button>"
   ]
  },
  {
   "cell_type": "markdown",
   "metadata": {},
   "source": [
    "Typically, cell magics parse the first line of the cell as its arguments."
   ]
  },
  {
   "cell_type": "code",
   "execution_count": null,
   "metadata": {},
   "outputs": [],
   "source": [
    "%%writefile foo.txt\n",
    "Lorem ipsum\n",
    "Whatever"
   ]
  },
  {
   "cell_type": "markdown",
   "metadata": {},
   "source": [
    "The same magic can also behave as either or cell magic."
   ]
  },
  {
   "cell_type": "markdown",
   "metadata": {},
   "source": [
    "\n",
    "---\n",
    "\n",
    "## Writing a Custom IPython Magic\n",
    "\n",
    "| Magic Type | Function Signature |\n",
    "| ---------- | ------------------ |\n",
    "| Line       | `def my_line_magic(line: str)` |\n",
    "| Cell       | `def my_cell_magic(line: str, cell: str)` |\n",
    "| Either     | `def my_combo_magic(line: str, cell: str = None)` |\n",
    "\n",
    "### Example 1 - Define Custom Magics via Decorators"
   ]
  },
  {
   "cell_type": "code",
   "execution_count": null,
   "metadata": {},
   "outputs": [],
   "source": [
    "# Ex. 1\n",
    "# https://ipython.readthedocs.io/en/stable/config/custommagics.html\n",
    "\n",
    "from typing import Tuple, Union\n",
    "\n",
    "from IPython.core.magic import (\n",
    "    register_line_magic,\n",
    "    register_cell_magic,\n",
    "    register_line_cell_magic,\n",
    ")\n",
    "\n",
    "\n",
    "@register_line_magic\n",
    "def ex1_my_line_magic(line: str) -> str:\n",
    "    return line\n",
    "\n",
    "\n",
    "@register_cell_magic\n",
    "def ex1_my_cell_magic(line: str, cell: str) -> Tuple[str, str]:\n",
    "    return line, cell\n",
    "\n",
    "\n",
    "@register_line_cell_magic\n",
    "def ex1_my_combo_magic(line: str, cell: str = None) -> Union[str, Tuple[str, str]]:\n",
    "    if cell is None:\n",
    "        print(\"Called as line magic\")\n",
    "        return line\n",
    "    else:\n",
    "        print(\"Called as cell magic\")\n",
    "        return line, cell"
   ]
  },
  {
   "cell_type": "code",
   "execution_count": null,
   "metadata": {},
   "outputs": [],
   "source": [
    "# Ex. 1a\n",
    "foo = %ex1_my_line_magic \"hello, infosec jupyterthon!\"\n",
    "print(foo)"
   ]
  },
  {
   "cell_type": "code",
   "execution_count": null,
   "metadata": {},
   "outputs": [],
   "source": [
    "%%ex1_my_cell_magic --args-go-here\n",
    "foo"
   ]
  },
  {
   "cell_type": "code",
   "execution_count": null,
   "metadata": {},
   "outputs": [],
   "source": [
    "# Ex. 1c\n",
    "%ex1_my_combo_magic foo!"
   ]
  },
  {
   "cell_type": "code",
   "execution_count": null,
   "metadata": {},
   "outputs": [],
   "source": [
    "%%ex1_my_combo_magic\n",
    "foo!"
   ]
  },
  {
   "cell_type": "markdown",
   "metadata": {},
   "source": [
    "\n",
    "---\n",
    "\n",
    "### Example 2 - Define Custom Magics via Subclass\n",
    "\n",
    "If you need a custom magic to be stateful, you can define your own magics subclass.\n",
    "\n",
    "You will decorate your class methods to indicate if it is a line magic, cell magic, or both.\n",
    "\n",
    "There is one extra step here: you need to register the custom magics class with the IPython global singleton.\n",
    "\n",
    "Any modules that define a function named `load_ipython_extension` can be imported via `%load_ext`."
   ]
  },
  {
   "cell_type": "code",
   "execution_count": null,
   "metadata": {},
   "outputs": [],
   "source": [
    "%%writefile magic_module.py\n",
    "# Ex. 2\n",
    "\n",
    "from IPython.core.magic import line_magic, cell_magic, line_cell_magic, Magics, magics_class\n",
    "\n",
    "@magics_class\n",
    "class ExampleMagic(Magics):\n",
    "    def __init__(self, shell):\n",
    "\n",
    "        # Stateful things can be be initialized here.\n",
    "        # For example: connect to a database, prompt \n",
    "        # for authentication, etc.\n",
    "\n",
    "        super().__init__(shell)\n",
    "    \n",
    "    @line_magic\n",
    "    def ex2_my_class_line_magic(self, line: str) -> str:\n",
    "\n",
    "        # The `self.shell.user_ns` instance attribute\n",
    "        # provides magics with access to the notebook's\n",
    "        # namespace. This means we can reference global\n",
    "        # variables and even set them!\n",
    "\n",
    "        # If you want to call a magic from within a\n",
    "        # function and have access to the local scope,\n",
    "        # you can wrap the magic with the `@needs_local_scope` \n",
    "        # decorator. This will pass in the local scope as the\n",
    "        # `local_ns` keyword argument.\n",
    "\n",
    "        # See https://ipython.readthedocs.io/en/stable/config/custommagics.html#accessing-user-namespace-and-local-scope\n",
    "\n",
    "        user_namespace = self.shell.user_ns\n",
    "\n",
    "        if line in user_namespace:\n",
    "            value = user_namespace[line]\n",
    "\n",
    "            return f\"Variable {line} has the assigned value of '{value}'\"\n",
    "        else:\n",
    "            \n",
    "            return f\"Variable {line} cannot be found in the user namespace!\"\n",
    "\n",
    "    @cell_magic\n",
    "    def ex2_my_class_cell_magic(self, line: str, cell: str) -> str:\n",
    "        return f\"The provided line was '{line}' and the provided cell contained '{cell}'\"\n",
    "\n",
    "    @line_cell_magic\n",
    "    def ex2_my_class_combo_magic(self, line: str, cell: str = None) -> str:\n",
    "        if cell:\n",
    "            return f\"I was executed as a cell magic: {cell}\"\n",
    "        else:\n",
    "            return \"I was executed as a line magic\"\n",
    "\n",
    "\n",
    "def load_ipython_extension(ipython):\n",
    "    ipython.register_magics(ExampleMagic)"
   ]
  },
  {
   "cell_type": "code",
   "execution_count": null,
   "metadata": {},
   "outputs": [],
   "source": [
    "# Ex. 2a\n",
    "%reload_ext magic_module"
   ]
  },
  {
   "cell_type": "code",
   "execution_count": null,
   "metadata": {},
   "outputs": [],
   "source": [
    "# Ex. 2b\n",
    "foo = \"bar\"\n",
    "%ex2_my_class_line_magic foo"
   ]
  },
  {
   "cell_type": "code",
   "execution_count": null,
   "metadata": {},
   "outputs": [],
   "source": [
    "%%ex2_my_class_cell_magic example_3_c\n",
    "cell goes here"
   ]
  },
  {
   "cell_type": "markdown",
   "metadata": {},
   "source": [
    "\n",
    "---\n",
    "\n",
    "### Example 3 - Argument Parsing\n",
    "\n",
    "As mentioned, magics typically parse the line as a commandline tool.\n",
    "\n",
    "IPython ships with some convenience functions that wrap `argparse` in the `IPython.core.magic_arguments` module."
   ]
  },
  {
   "cell_type": "code",
   "execution_count": null,
   "metadata": {},
   "outputs": [],
   "source": [
    "# Ex. 3\n",
    "# From https://ipython.readthedocs.io/en/stable/api/generated/IPython.core.magic_arguments.html\n",
    "# from IPython.core.magic import register_cell_magic\n",
    "\n",
    "from IPython.core.magic import register_cell_magic\n",
    "from IPython.core.magic_arguments import argument, magic_arguments, parse_argstring\n",
    "\n",
    "\n",
    "@magic_arguments()\n",
    "@argument(\n",
    "    \"--option\",\n",
    "    \"-o\",\n",
    "    help=(\"Add an option here\"),\n",
    ")\n",
    "@argument(\n",
    "    \"--style\",\n",
    "    \"-s\",\n",
    "    default=\"foo\",\n",
    "    help=(\"Add some style arguments\"),\n",
    ")\n",
    "@register_cell_magic\n",
    "def ex3_my_cell_magic(line, cell):\n",
    "    args = parse_argstring(ex3_my_cell_magic, line)\n",
    "    print(f\"{args.option=}\")\n",
    "    print(f\"{args.style=}\")\n",
    "    print(f\"{cell=}\")"
   ]
  },
  {
   "cell_type": "code",
   "execution_count": null,
   "metadata": {},
   "outputs": [],
   "source": [
    "%%ex3_my_cell_magic --option foo --style bar\n",
    "cell goes here"
   ]
  },
  {
   "cell_type": "markdown",
   "metadata": {},
   "source": [
    "But you can leverage any argument parsing library, such as [`typer`](https://typer.tiangolo.com/) or [`knack`](https://github.com/microsoft/knack). More on this topic later."
   ]
  },
  {
   "cell_type": "markdown",
   "metadata": {},
   "source": [
    "---\n",
    "\n",
    "## When to Use Magics\n",
    "\n",
    "_Magics are an anti-pattern._\n",
    "\n",
    "IPython magics are the Python equivalent of necromancy in D&D or the law of equivalent exchange in FMA.\n",
    "\n",
    "From PEP 20, the [Zen of Python](https://peps.python.org/pep-0020/) for IPython Magics:\n",
    "\n",
    "| Pros | Cons |\n",
    "| ---- | ---- |\n",
    "| Beautiful is better than ugly. | Explicit is better than implicit. |\n",
    "| Readability counts. | Simple is better than complex. |\n",
    "| Although practicality beats purity. | Special cases aren't special enough to break the rules. |\n",
    "| | There should be one-- and preferably only one --obvious way to do it. |\n",
    "| | If the implementation is hard to explain, it's a bad idea. | \n",
    "\n",
    "<br>\n",
    "\n",
    "---\n",
    "\n",
    "## Magics for Infosec\n",
    "\n",
    "_Although practicality beats purity._\n",
    "\n",
    "| Use Case                     | Example Magics                     |\n",
    "| ---------------------------- | ---------------------------------- |\n",
    "| Exploratory data analysis    | `%sql`, `%sparkmagic`, `%kqlmagic` |\n",
    "| Interop with native tools    | `!`, `%%bash`, `%pwsh`, etc.       |\n",
    "| Report generation            | `%%jinja`                          |\n",
    "| Environment management       | `%dotenv`, `%env`                  |\n",
    "| Workflow or process-oriented | `%jira`, `%bug`                    |\n",
    "| Text manipulation            | `%iocmagic`, `%base64unpack`       |"
   ]
  },
  {
   "cell_type": "markdown",
   "metadata": {},
   "source": [
    "\n",
    "---\n",
    "\n",
    "### Example 4 - Exploratory Data Analysis with `ipython-sql` and `ROADtools`\n",
    "\n",
    "We can use popular enumeration tools such as `ROADtools` to dump data about an Azure AD tenant.\n",
    "\n",
    "`ROADtools`, like many other projects, use `sqlite` to persist information.\n",
    "\n",
    "We can then use the `ipython-sql` magic to interact with these databases from our notebook.\n",
    "\n",
    "From a terminal, run:\n",
    "\n",
    "```bash\n",
    "roadrecon auth --device-code\n",
    "roadrecon gather\n",
    "```\n",
    "\n",
    "This will create a file in the current working directory called `roadrecon.db`."
   ]
  },
  {
   "cell_type": "code",
   "execution_count": null,
   "metadata": {},
   "outputs": [],
   "source": [
    "# Ex. 4a\n",
    "%load_ext sql\n",
    "%sql sqlite:///roadrecon.db"
   ]
  },
  {
   "cell_type": "markdown",
   "metadata": {},
   "source": [
    "Now we can conveniently query the `sqlite` database using SQL from the comfort of our notebook."
   ]
  },
  {
   "cell_type": "code",
   "execution_count": null,
   "metadata": {},
   "outputs": [],
   "source": [
    "%%sql\n",
    "\n",
    "SELECT name FROM sqlite_schema\n",
    "WHERE type='table'\n",
    "ORDER BY name;"
   ]
  },
  {
   "cell_type": "markdown",
   "metadata": {},
   "source": [
    "Better yet, `ipython-sql` has native `pandas` integration so that query results are returned as `pd.DataFrame`."
   ]
  },
  {
   "cell_type": "code",
   "execution_count": null,
   "metadata": {},
   "outputs": [],
   "source": [
    "# Ex. 4c\n",
    "results = %sql SELECT * FROM ServicePrincipals;\n",
    "results_df = results.DataFrame()\n",
    "results_df.head()"
   ]
  },
  {
   "cell_type": "markdown",
   "metadata": {},
   "source": [
    "The information above is helpful to identify possibly compromised service principals.\n",
    "\n",
    "We can use either `pandas` or `SQL` to find service principals with credentials added."
   ]
  },
  {
   "cell_type": "code",
   "execution_count": null,
   "metadata": {},
   "outputs": [],
   "source": [
    "# Ex. 4d\n",
    "sps_with_credentials = results_df[\n",
    "    (results_df.passwordCredentials != \"[]\") |\n",
    "    (results_df.keyCredentials != \"[]\")\n",
    "]\n",
    "\n",
    "sps_with_credentials"
   ]
  },
  {
   "cell_type": "markdown",
   "metadata": {},
   "source": [
    "\n",
    "---\n",
    "\n",
    "### Example 5 - Report Automation with `jinja2`\n",
    "\n",
    "\n",
    "We can combine everything we learned above to automate infosec reports in notebooks.\n",
    "\n",
    "This custom magic passes variables from the notebook namespace into a `jinja2` template inside the cell.\n",
    "\n",
    "We can rapidly iterate on a `jinja2` template that renders markdown text.\n",
    "\n",
    "We can then leverage IPython's native `display_markdown` function to display it in the notebook."
   ]
  },
  {
   "cell_type": "code",
   "execution_count": null,
   "metadata": {},
   "outputs": [],
   "source": [
    "# Ex. 5\n",
    "from IPython.core.magic import cell_magic, Magics, magics_class\n",
    "from IPython.core.magic_arguments import argument, magic_arguments, parse_argstring\n",
    "from IPython.display import display_markdown\n",
    "from jinja2 import Template\n",
    "\n",
    "\n",
    "@magics_class\n",
    "class JinjaMagic(Magics):\n",
    "        \n",
    "    @magic_arguments()\n",
    "    @argument(\n",
    "        \"--template-vars\",\n",
    "        help=\"Variables to render in Jinja2 template\",\n",
    "        nargs=\"+\",\n",
    "    )\n",
    "    @cell_magic\n",
    "    def jinja(self, line: str, cell: str) -> None:\n",
    "\n",
    "        args = parse_argstring(JinjaMagic.jinja, line)\n",
    "\n",
    "        template_variables = {\n",
    "            variable: self.shell.user_ns.get(variable) \n",
    "            for variable in args.template_vars\n",
    "        }\n",
    "\n",
    "        rendered_template = Template(cell).render(**template_variables)\n",
    "        display_markdown(rendered_template, raw=True)\n",
    "\n",
    "\n",
    "ip = get_ipython()\n",
    "ip.register_magics(JinjaMagic)"
   ]
  },
  {
   "cell_type": "markdown",
   "metadata": {},
   "source": [
    "Here is an toy example of a mini report that highlights our potentially compromised service principals."
   ]
  },
  {
   "cell_type": "code",
   "execution_count": null,
   "metadata": {},
   "outputs": [],
   "source": [
    "%%jinja --template-vars sps_with_credentials\n",
    "\n",
    "### Service Principals with Credentials\n",
    "\n",
    "**Response Plan**\n",
    "\n",
    "Please validate that these service principals credentials are legitimate.\n",
    "\n",
    "Unauthorized credentials can be removed using the [`az ad sp credential delete`](https://learn.microsoft.com/en-us/cli/azure/ad/sp/credential?view=azure-cli-latest#az-ad-sp-credential-delete) command.\n",
    "\n",
    "{% for sp in sps_with_credentials.to_dict(orient=\"records\") %}\n",
    "\n",
    " \n",
    "| Display Name         | Type                          | Object ID         | App ID         |\n",
    "| -------------------- | ----------------------------- |------------------ | -------------- |\n",
    "| {{ sp.displayName }} | {{ sp.servicePrincipalType }} | {{ sp.objectId }} | {{ sp.appId }} |\n",
    "\n",
    "{% if sp.passwordCredentials != \"[]\" %}\n",
    "\n",
    "_Password Credentials Found_:\n",
    "\n",
    "```json\n",
    "{{ sp.passwordCredentials }}\n",
    "```\n",
    "\n",
    "{% endif %}\n",
    "\n",
    "{% if sp.keyCredentials != \"[]\" %}\n",
    "\n",
    "_Certificate Credentials Found_:\n",
    "\n",
    "```json\n",
    "{{ sp.keyCredentials }}\n",
    "```\n",
    "\n",
    "{% endif %}\n",
    "\n",
    "{% endfor %}"
   ]
  },
  {
   "cell_type": "markdown",
   "metadata": {},
   "source": [
    "\n",
    "---\n",
    "\n",
    "### Exercise 6 - Magic Wrapper for the Azure CLI `azmagic`\n",
    "\n",
    "I hope that I have demonstrated how it is easy to use magic commands and even write your own.\n",
    "\n",
    "Here is an example of one such custom magic that I use during investigations and research: `azmagic`\n",
    "\n",
    "The Azure CLI (`azcli`) is a very powerful tool. \n",
    "\n",
    "It is built from the `azure-sdk-for-python`, but mostly used as a commandline utility.\n",
    "\n",
    "It can return structured JSON, but wouldn't it be nice if it returned DataFrames?\n",
    "\n",
    "Microsoft open sourced an argument parsing/CLI framework called `knack` to support `azcli`.\n",
    "\n",
    "This means the rather messy task of parsing all those args are handled by `knack`, rather than needing to implement them in the magic."
   ]
  },
  {
   "cell_type": "code",
   "execution_count": null,
   "metadata": {},
   "outputs": [],
   "source": [
    "# Ex. 6\n",
    "import shlex\n",
    "import os\n",
    "\n",
    "import pandas as pd\n",
    "\n",
    "from typing import Any, Union\n",
    "\n",
    "from IPython.core.magic import register_line_magic\n",
    "\n",
    "from azure.cli.core import get_default_cli\n",
    "\n",
    "\n",
    "@register_line_magic\n",
    "def az(line: str) -> Union[Any, pd.DataFrame, None]:\n",
    "    \"\"\"Implementation of `%az` line magic\n",
    "\n",
    "    Parameters\n",
    "    ----------\n",
    "    line : str\n",
    "        Arguments to the line magic\n",
    "\n",
    "    Returns\n",
    "    -------\n",
    "    Union[Any, pd.DataFrame, None]\n",
    "        If the result from the `azcli` command is a List[Dict], then\n",
    "        this function will attempt to convert them into a `pd.DataFrame`.\n",
    "\n",
    "        If the `azcli` command raises a SystemExit exception with an error\n",
    "        code of 0 (a \"successful error\"), such as when passing the `--help`\n",
    "        flag, then this function returns `None`.\n",
    "\n",
    "        Otherwise, this function returns whatever object is the result\n",
    "        of the `azcli` command.\n",
    "\n",
    "    Raises\n",
    "    ------\n",
    "    SystemExit\n",
    "        Indicates the `azcli` command was not successful.\n",
    "    \"\"\"\n",
    "\n",
    "    args = shlex.split(line)\n",
    "    az_cli = get_default_cli()\n",
    "    out_file = open(os.devnull, \"w\")\n",
    "\n",
    "    try:\n",
    "        exit_code = az_cli.invoke(args, out_file=out_file)\n",
    "\n",
    "        if exit_code == 0:\n",
    "            result = az_cli.result.result\n",
    "\n",
    "            if isinstance(result, list):\n",
    "                # If we get back a list of dicts,\n",
    "                # then return a pandas DataFrame\n",
    "                return pd.json_normalize(result)\n",
    "\n",
    "            elif isinstance(result, dict):\n",
    "                # If we get back an OData response,\n",
    "                # attempt to return the `value` array\n",
    "                # as a pandas DataFrame.\n",
    "                if \"@odata.context\" in result and \"value\" in result:\n",
    "                    return pd.json_normalize(result[\"value\"])\n",
    "                else:\n",
    "                    return result\n",
    "            else:\n",
    "                return result\n",
    "\n",
    "    except SystemExit as exc:\n",
    "\n",
    "        # Using the --help flag will raise\n",
    "        # a SystemExit, but with a successful\n",
    "        # error code. We don't want to show\n",
    "        # this exception to the user in the\n",
    "        # notebook.\n",
    "\n",
    "        if az_cli.result.error.code == 0:\n",
    "\n",
    "            return\n",
    "        else:\n",
    "            raise exc\n"
   ]
  },
  {
   "cell_type": "code",
   "execution_count": null,
   "metadata": {},
   "outputs": [],
   "source": [
    "# Ex. 6a\n",
    "%az"
   ]
  },
  {
   "cell_type": "markdown",
   "metadata": {},
   "source": [
    "To use it, we first need to login."
   ]
  },
  {
   "cell_type": "code",
   "execution_count": null,
   "metadata": {},
   "outputs": [],
   "source": [
    "#Ex. 6b\n",
    "%az login --use-device-code"
   ]
  },
  {
   "cell_type": "markdown",
   "metadata": {},
   "source": [
    "We can replicate what we collected with `ROADTools`."
   ]
  },
  {
   "cell_type": "code",
   "execution_count": null,
   "metadata": {},
   "outputs": [],
   "source": [
    "#Ex. 6c\n",
    "service_principals_df = %az ad sp list --all\n",
    "service_principals_df.head()"
   ]
  },
  {
   "cell_type": "markdown",
   "metadata": {},
   "source": [
    "Here is yet another special syntax:\n",
    "\n",
    "Any variables prefixed with a `$` will be expanded by the line magic. This can be disabled."
   ]
  },
  {
   "cell_type": "code",
   "execution_count": null,
   "metadata": {},
   "outputs": [],
   "source": [
    "#Ex. 6d\n",
    "for appId in service_principals_df.head().appId.unique():\n",
    "    # Note the $appId variable\n",
    "    app = %az ad sp show --id $appId\n",
    "    display_name = app[\"appDisplayName\"]\n",
    "    print(f\"{display_name} ({appId})\")"
   ]
  },
  {
   "cell_type": "markdown",
   "metadata": {},
   "source": [
    "But unlike `ROADtools`, which only uses the legacy Azure AD graph to enumerate tenant information, the `azcli` can interact with a wide variety of Azure cloud resources."
   ]
  },
  {
   "cell_type": "code",
   "execution_count": null,
   "metadata": {},
   "outputs": [],
   "source": [
    "#Ex. 6e\n",
    "azure_providers = %az provider list\n",
    "azure_providers"
   ]
  },
  {
   "cell_type": "markdown",
   "metadata": {},
   "source": [
    "This is very handy for evidence collection purposes.\n",
    "\n",
    "Here is an example of reading the Azure activity log from the notebook."
   ]
  },
  {
   "cell_type": "code",
   "execution_count": null,
   "metadata": {},
   "outputs": [],
   "source": [
    "#Ex. 6f\n",
    "activity_log_last_hour = %az monitor activity-log list --offset 1h\n",
    "activity_log_last_hour"
   ]
  },
  {
   "cell_type": "markdown",
   "metadata": {},
   "source": [
    "Even though the `azcli` doesn't officially support the Microsoft Graph beta Reports API, the `az rest` utility will happily obtain the appropriate access tokens and complete your request."
   ]
  },
  {
   "cell_type": "code",
   "execution_count": null,
   "metadata": {},
   "outputs": [],
   "source": [
    "#Ex. 6g\n",
    "directory_audit_logs = %az rest --uri https://graph.microsoft.com/beta/auditLogs/directoryAudits --uri-parameters '{\"$filter\": \"activityDateTime ge 2022-11-03\"}'\n",
    "directory_audit_logs"
   ]
  },
  {
   "cell_type": "markdown",
   "metadata": {},
   "source": [
    "Similarly, the same approach can be used to read the sign-ins reports."
   ]
  },
  {
   "cell_type": "markdown",
   "metadata": {},
   "source": [
    "\n",
    "---\n",
    "\n",
    "## Wrap-Up\n",
    "\n",
    "- Magic commands are syntactic sugar that make working in the notebook more convenient.\n",
    "- Custom magic commands are easy to write and can streamline infosec analysis tasks.\n",
    "\n",
    "Thank you!"
   ]
  }
 ],
 "metadata": {
  "kernelspec": {
   "display_name": "Python 3.9.15 ('azmagic')",
   "language": "python",
   "name": "python3"
  },
  "language_info": {
   "codemirror_mode": {
    "name": "ipython",
    "version": 3
   },
   "file_extension": ".py",
   "mimetype": "text/x-python",
   "name": "python",
   "nbconvert_exporter": "python",
   "pygments_lexer": "ipython3",
   "version": "3.9.15"
  },
  "orig_nbformat": 4,
  "vscode": {
   "interpreter": {
    "hash": "a51c5f74afb267f88a6e7419efc48d48c23a155c9eeb1772453d57e97a582eb7"
   }
  }
 },
 "nbformat": 4,
 "nbformat_minor": 2
}
